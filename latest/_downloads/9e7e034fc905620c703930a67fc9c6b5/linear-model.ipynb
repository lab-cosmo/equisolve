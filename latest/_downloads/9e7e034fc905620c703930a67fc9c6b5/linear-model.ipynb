{
  "cells": [
    {
      "cell_type": "markdown",
      "metadata": {},
      "source": [
        "\n# Computing a Linear Model\n\n.. start-body\n\nIn this tutorial we calculate a linear model using Ridge regression.\nIf you are never worked with metatensor objects before please take a look at\nthe documentation.\n\nFor constructing a linear Model we need the atomic descriptor as training data\n``X`` as well as the energies and forces as target data ``y``.\n\nWe first import all necessary packages.\n"
      ]
    },
    {
      "cell_type": "code",
      "execution_count": null,
      "metadata": {
        "collapsed": false
      },
      "outputs": [],
      "source": [
        "import ase.io\nimport metatensor\nimport numpy as np\nfrom rascaline import SoapPowerSpectrum\n\nfrom equisolve.numpy.models.linear_model import Ridge\nfrom equisolve.utils.convert import ase_to_tensormap"
      ]
    },
    {
      "cell_type": "markdown",
      "metadata": {},
      "source": [
        "## Dataset\n\nAs data set we use the SHIFTML set. You can obtain the dataset used in this\nexample from our :download:`website<../../static/dataset.xyz>`.\nWe read the first 20 structures of the data set using\n[ASE](https://wiki.fysik.dtu.dk/ase/).\n\n"
      ]
    },
    {
      "cell_type": "code",
      "execution_count": null,
      "metadata": {
        "collapsed": false
      },
      "outputs": [],
      "source": [
        "frames = ase.io.read(\"dataset.xyz\", \":20\")"
      ]
    },
    {
      "cell_type": "markdown",
      "metadata": {},
      "source": [
        "The data set contains everything we need for the model:\nThe atomic positions we use for the descriptor and with this as\ntraining data. The data set also stores the energies and forces which will be our\ntarget data we regress against.\n\n## Training data\n\nWe construct the descriptor training data with a SOAP powerspectrum using\nrascaline. We first define the hyper parameters for the calculation\n\n"
      ]
    },
    {
      "cell_type": "code",
      "execution_count": null,
      "metadata": {
        "collapsed": false
      },
      "outputs": [],
      "source": [
        "HYPER_PARAMETERS = {\n    \"cutoff\": 5.0,\n    \"max_radial\": 6,\n    \"max_angular\": 4,\n    \"atomic_gaussian_width\": 0.3,\n    \"center_atom_weight\": 1.0,\n    \"radial_basis\": {\n        \"Gto\": {},\n    },\n    \"cutoff_function\": {\n        \"ShiftedCosine\": {\"width\": 0.5},\n    },\n}\n\ncalculator = SoapPowerSpectrum(**HYPER_PARAMETERS)"
      ]
    },
    {
      "cell_type": "markdown",
      "metadata": {},
      "source": [
        "And then run the actual calculation, including gradients with respect to positions.\n\n"
      ]
    },
    {
      "cell_type": "code",
      "execution_count": null,
      "metadata": {
        "collapsed": false
      },
      "outputs": [],
      "source": [
        "descriptor = calculator.compute(frames, gradients=[\"positions\"])"
      ]
    },
    {
      "cell_type": "markdown",
      "metadata": {},
      "source": [
        "For more details on how the descriptor works see the documentation of\nrascaline.\n\nWe now move all keys into properties to access them for our model.\n\n"
      ]
    },
    {
      "cell_type": "code",
      "execution_count": null,
      "metadata": {
        "collapsed": false
      },
      "outputs": [],
      "source": [
        "descriptor = descriptor.keys_to_samples(\"species_center\")\ndescriptor = descriptor.keys_to_properties([\"species_neighbor_1\", \"species_neighbor_2\"])"
      ]
    },
    {
      "cell_type": "markdown",
      "metadata": {},
      "source": [
        "The descriptor contains a represenantion with respect to each central atoms per\nstructure. However, our energies as target data is per structure only.\nTherefore, we sum the properties of each center atom per structure.\n\n"
      ]
    },
    {
      "cell_type": "code",
      "execution_count": null,
      "metadata": {
        "collapsed": false
      },
      "outputs": [],
      "source": [
        "X = metatensor.sum_over_samples(descriptor, [\"center\", \"species_center\"])"
      ]
    },
    {
      "cell_type": "markdown",
      "metadata": {},
      "source": [
        "The newly defined :class:`metatensor.TensorMap` contains a single block\n\n"
      ]
    },
    {
      "cell_type": "code",
      "execution_count": null,
      "metadata": {
        "collapsed": false
      },
      "outputs": [],
      "source": [
        "print(f\"X contains {len(X.blocks())} block.\")"
      ]
    },
    {
      "cell_type": "markdown",
      "metadata": {},
      "source": [
        "As well as 1800 properties and 20 sample.\n\nWe acces the data using the :meth:``metatensor.TensorMap.block`` method\n\n"
      ]
    },
    {
      "cell_type": "code",
      "execution_count": null,
      "metadata": {
        "collapsed": false
      },
      "outputs": [],
      "source": [
        "print(f\"X contains {len(X[0].properties)} properties.\")\nprint(f\"X contains {len(X[0].samples)} samples.\")\n\n# Target data\n# -----------\n#\n# We construct the target data by converting energies and forces into a\n# :class:`equisolve.TensorMap`.\n\n\ny = ase_to_tensormap(frames, energy=\"energy\", forces=\"forces\")"
      ]
    },
    {
      "cell_type": "markdown",
      "metadata": {},
      "source": [
        "The target data y contains a single block\n\n"
      ]
    },
    {
      "cell_type": "code",
      "execution_count": null,
      "metadata": {
        "collapsed": false
      },
      "outputs": [],
      "source": [
        "print(y[0])"
      ]
    },
    {
      "cell_type": "markdown",
      "metadata": {},
      "source": [
        "## Construct the model\n\nWe first initilize the :class:`equisolve.numpy.models.linear_model.Ridge`\nobject. We automically learn on forces if forces are present.\n\n"
      ]
    },
    {
      "cell_type": "code",
      "execution_count": null,
      "metadata": {
        "collapsed": false
      },
      "outputs": [],
      "source": [
        "clf = Ridge()"
      ]
    },
    {
      "cell_type": "markdown",
      "metadata": {},
      "source": [
        "Before we fit a model we have to define our regulerizer values.\n\nFor this we create a TensorMap containing the desired regulerizer values.\nHere we chose a regulerizer strength of $1 \\cdot 10^-5$. Note that\nwithout standardizing the features and values the regulerizer strength\ndepends on the system and has to be taken carefully and usually optimized.\n\n"
      ]
    },
    {
      "cell_type": "code",
      "execution_count": null,
      "metadata": {
        "collapsed": false
      },
      "outputs": [],
      "source": [
        "alpha = metatensor.ones_like(X)\nalpha = metatensor.multiply(alpha, 1e-5)"
      ]
    },
    {
      "cell_type": "markdown",
      "metadata": {},
      "source": [
        "So far ``alpha`` contains the same number of samples as ``X``. However,\nthe regulerizer must only contain a single sample, because all samples will be\nregulerized in the same way in a linear model.\n\nWe remove all sample except the 0th one by using the\n:func:`metatensor.slice`.\n\n"
      ]
    },
    {
      "cell_type": "code",
      "execution_count": null,
      "metadata": {
        "collapsed": false
      },
      "outputs": [],
      "source": [
        "samples = metatensor.Labels(\n    names=[\"structure\"],\n    values=np.array([(0,)]),\n)\n\nalpha = metatensor.slice(alpha, axis=\"samples\", labels=samples)\n\nprint(alpha)"
      ]
    },
    {
      "cell_type": "markdown",
      "metadata": {},
      "source": [
        "In our regulerizer we use the same values for all properties. However,\n:class:`equisolve.numpy.models.linear_model.Ridge` can also handle different\nregularization for each property. You can apply a property wise\nregularization by setting ``\"values\"`` of ``alpha`` with an 1d array of the\nsame length as the number of properties in the training data X (here 7200).\n\nNext we create a sample weighting :class:`equistiore.TensorMap` that weights\nenergies five times more then the forces.\n\n"
      ]
    },
    {
      "cell_type": "code",
      "execution_count": null,
      "metadata": {
        "collapsed": false
      },
      "outputs": [],
      "source": [
        "sw = metatensor.ones_like(y)\nsw = metatensor.multiply(sw, 5.0)"
      ]
    },
    {
      "cell_type": "markdown",
      "metadata": {},
      "source": [
        "The function `equisolve.utils.dictionary_to_tensormap` create a\n:class:`metatensor.TensorMap` with the same shape as our target data ``y`` but\nwith values a defined by ``sw_dict``.\n\n"
      ]
    },
    {
      "cell_type": "code",
      "execution_count": null,
      "metadata": {
        "collapsed": false
      },
      "outputs": [],
      "source": [
        "print(sw[0])"
      ]
    },
    {
      "cell_type": "markdown",
      "metadata": {},
      "source": [
        "Finally, we can fit the model using the regulerizer and sample weights as\ndefined above.\n\n"
      ]
    },
    {
      "cell_type": "code",
      "execution_count": null,
      "metadata": {
        "collapsed": false
      },
      "outputs": [],
      "source": [
        "clf.fit(X, y, alpha=alpha, sample_weight=sw)"
      ]
    },
    {
      "cell_type": "markdown",
      "metadata": {},
      "source": [
        "We now predict values and calculate the root mean squre error\nof our model using the ``score`` method.\n\n"
      ]
    },
    {
      "cell_type": "code",
      "execution_count": null,
      "metadata": {
        "collapsed": false
      },
      "outputs": [],
      "source": [
        "print(f\"RMSE energies = {clf.score(X, y, parameter_key='values')[0]:.3f} eV\")\nprint(f\"RMSE forces = {clf.score(X, y, parameter_key='positions')[0]:.3f} eV/\u00c5\")"
      ]
    },
    {
      "cell_type": "markdown",
      "metadata": {},
      "source": [
        "If you only want to predict values you can use the\n:meth:`equisolve.numpy.models.linear_model.Ridge.predict` method.\n\n"
      ]
    },
    {
      "cell_type": "code",
      "execution_count": null,
      "metadata": {
        "collapsed": false
      },
      "outputs": [],
      "source": [
        "clf.predict(X)"
      ]
    }
  ],
  "metadata": {
    "kernelspec": {
      "display_name": "Python 3",
      "language": "python",
      "name": "python3"
    },
    "language_info": {
      "codemirror_mode": {
        "name": "ipython",
        "version": 3
      },
      "file_extension": ".py",
      "mimetype": "text/x-python",
      "name": "python",
      "nbconvert_exporter": "python",
      "pygments_lexer": "ipython3",
      "version": "3.10.13"
    }
  },
  "nbformat": 4,
  "nbformat_minor": 0
}