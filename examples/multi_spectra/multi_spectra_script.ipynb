{
 "cells": [
  {
   "cell_type": "code",
   "execution_count": 3,
   "id": "c86f17cd",
   "metadata": {},
   "outputs": [],
   "source": [
    "import rascaline\n",
    "rascaline._c_lib._get_library()\n",
    "\n",
    "from copy import deepcopy\n",
    "\n",
    "import numpy as np\n",
    "\n",
    "from multi_spectra_script import MultiSpectraModule\n",
    "from equisolve.numpy.models.linear_model import Ridge\n",
    "from equisolve.numpy.preprocessing import StandardScaler\n",
    "from equisolve.utils.convert import ase_to_tensormap\n",
    "\n",
    "import ase.io\n"
   ]
  },
  {
   "cell_type": "code",
   "execution_count": 4,
   "id": "a199029f",
   "metadata": {},
   "outputs": [],
   "source": [
    "frames = ase.io.read(\"water_converted.extxyz\", \":20\")"
   ]
  },
  {
   "cell_type": "code",
   "execution_count": 5,
   "id": "baca7fb8",
   "metadata": {},
   "outputs": [],
   "source": [
    "HYPERS = {\n",
    "    \"cutoff\": 3.0,\n",
    "    \"max_radial\": 6,\n",
    "    \"max_angular\": 4,\n",
    "    \"atomic_gaussian_width\": 0.3,\n",
    "    \"center_atom_weight\": 1.0,\n",
    "    \"radial_basis\": {\"Gto\": {}},\n",
    "    \"cutoff_function\": {\"ShiftedCosine\": {\"width\": 0.5}},\n",
    "}\n",
    "multi_spectra_hypers = {}\n",
    "#multi_spectra_hypers['Composition'] = {}\n",
    "multi_spectra_hypers['SoapRadialSpectrum'] = deepcopy(HYPERS)\n",
    "multi_spectra_hypers['SoapRadialSpectrum'].pop('max_angular')\n",
    "multi_spectra_hypers['SoapPowerSpectrum'] = deepcopy(HYPERS)"
   ]
  },
  {
   "cell_type": "code",
   "execution_count": 6,
   "id": "0233bbb9",
   "metadata": {},
   "outputs": [],
   "source": [
    "y = ase_to_tensormap(frames, energy=\"TotEnergy\", forces=\"force\")"
   ]
  },
  {
   "cell_type": "code",
   "execution_count": 7,
   "id": "cdf7caa4",
   "metadata": {},
   "outputs": [
    {
     "data": {
      "text/plain": [
       "671.9636307759743"
      ]
     },
     "execution_count": 7,
     "metadata": {},
     "output_type": "execute_result"
    }
   ],
   "source": [
    "# Because all frames have the same species, we cannot scale, so we just subtract the mean\n",
    "#transformer_composition = StandardScaler(parameter_keys=[\"values\", \"positions\"], with_mean=True, with_std=False)\n",
    "# THIS IS BUGGY, something wrong in the standardizer when setting these flags to False\n",
    "\n",
    "transformer = StandardScaler(parameter_keys=[\"values\", \"positions\"])\n",
    "estimator = Ridge(parameter_keys=[\"values\", \"positions\"])\n",
    "gradients = [\"positions\"]\n",
    "module = MultiSpectraModule(multi_spectra_hypers,\n",
    "                            gradients, # gradients argument will\n",
    "                            #transformer_X=transformer,\n",
    "                            #transformer_y=transformer,\n",
    "                            estimator=estimator)\n",
    "\n",
    "# PR COMMENT have to think how to support both\n",
    "# ase.Atoms as input and TensorMaps\n",
    "Xi = module.compute(systems=frames)\n",
    "module.fit(Xi, y, **{\"estimator_kwargs\": {\"alpha\": 1e-15}})\n",
    "module.score(Xi, y)"
   ]
  },
  {
   "cell_type": "code",
   "execution_count": 6,
   "id": "941356e0",
   "metadata": {},
   "outputs": [],
   "source": [
    "# FOR DEBUGGING\n",
    "#import importlib\n",
    "#import equisolve.module\n",
    "#importlib.reload(equisolve.module)"
   ]
  },
  {
   "cell_type": "code",
   "execution_count": 7,
   "id": "a8e11b96",
   "metadata": {},
   "outputs": [],
   "source": [
    "import equisolve.module\n",
    "equisolve.module.save(module, \"multi_spectra_script.py\", \"multi_spectra_script-water-dummy\")"
   ]
  },
  {
   "cell_type": "code",
   "execution_count": 8,
   "id": "3b640034",
   "metadata": {},
   "outputs": [],
   "source": [
    "# RESTART NOTEBOOK"
   ]
  },
  {
   "cell_type": "code",
   "execution_count": 9,
   "id": "084d33d4",
   "metadata": {},
   "outputs": [
    {
     "name": "stdout",
     "output_type": "stream",
     "text": [
      "<multi_spectra_script.MultiSpectraModule object at 0x7f21a89bee80>\n"
     ]
    }
   ],
   "source": [
    "import equisolve.module\n",
    "module = equisolve.module.load(\"multi_spectra_script-water-dummy\")\n",
    "print(module)"
   ]
  },
  {
   "cell_type": "code",
   "execution_count": 10,
   "id": "626cc155",
   "metadata": {},
   "outputs": [
    {
     "name": "stdout",
     "output_type": "stream",
     "text": [
      "-29201.186821558375\n",
      "\n",
      "[[-295.60671847   -4.62718863  -55.59864334]\n",
      " [ 298.54620907    4.04942317   37.15507667]\n",
      " [-221.68776379 -150.28232975 -242.81915489]\n",
      " [  -7.67013877    1.6028996    48.61326349]\n",
      " [ 176.03569875 -146.94124088  179.13481445]\n",
      " [ 286.69810363  136.65180697 -172.50009028]\n",
      " [-220.83316507  156.29491821  107.1942928 ]]\n"
     ]
    }
   ],
   "source": [
    "# in ipi\n",
    "import ase.io\n",
    "import numpy as np\n",
    "\n",
    "structure = ase.io.read(\"h5o2+.extxyz\", \"0\")\n",
    "\n",
    "y_pred = module.forward(structure)\n",
    "energy = y_pred.block().values[0][0]\n",
    "forces = np.array(y_pred.block().gradient(\"positions\").data.reshape(-1, 3))\n",
    "\n",
    "print(energy)\n",
    "print()\n",
    "print(forces)"
   ]
  },
  {
   "cell_type": "code",
   "execution_count": 3,
   "id": "ffceee25",
   "metadata": {},
   "outputs": [
    {
     "data": {
      "text/plain": [
       "<equisolve.md.ipi_driver.IpiDriver at 0x7f1e747e1370>"
      ]
     },
     "execution_count": 3,
     "metadata": {},
     "output_type": "execute_result"
    }
   ],
   "source": [
    "\"\"\"Interface with equiscript to run machine learning potentials\"\"\"\n",
    "from equisolve.md import IpiDriver\n",
    "\n",
    "Equisolve_driver = IpiDriver\n",
    "\n",
    "Equisolve_driver(\"multi_spectra_script-water-dummy.zip,h5o2+.extxyz\")"
   ]
  }
 ],
 "metadata": {
  "kernelspec": {
   "display_name": "Python 3 (ipykernel)",
   "language": "python",
   "name": "python3"
  },
  "language_info": {
   "codemirror_mode": {
    "name": "ipython",
    "version": 3
   },
   "file_extension": ".py",
   "mimetype": "text/x-python",
   "name": "python",
   "nbconvert_exporter": "python",
   "pygments_lexer": "ipython3",
   "version": "3.8.0"
  }
 },
 "nbformat": 4,
 "nbformat_minor": 5
}
