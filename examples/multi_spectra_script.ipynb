{
 "cells": [
  {
   "cell_type": "code",
   "execution_count": 1,
   "id": "c86f17cd",
   "metadata": {},
   "outputs": [],
   "source": [
    "import rascaline\n",
    "rascaline._c_lib._get_library()\n",
    "\n",
    "from copy import deepcopy\n",
    "\n",
    "import numpy as np\n",
    "\n",
    "from equisolve.numpy.scripts import MultiSpectraScript\n",
    "from equisolve.numpy.models.linear_model import Ridge\n",
    "from equisolve.numpy.preprocessing import StandardScaler\n",
    "from equisolve.utils.convert import ase_to_tensormap\n",
    "\n",
    "import ase.io\n"
   ]
  },
  {
   "cell_type": "code",
   "execution_count": 2,
   "id": "a199029f",
   "metadata": {},
   "outputs": [],
   "source": [
    "frames = ase.io.read(\"dataset.xyz\", \":\")"
   ]
  },
  {
   "cell_type": "code",
   "execution_count": 3,
   "id": "baca7fb8",
   "metadata": {},
   "outputs": [],
   "source": [
    "HYPERS = {\n",
    "    \"cutoff\": 3.0,\n",
    "    \"max_radial\": 6,\n",
    "    \"max_angular\": 4,\n",
    "    \"atomic_gaussian_width\": 0.3,\n",
    "    \"center_atom_weight\": 1.0,\n",
    "    \"radial_basis\": {\"Gto\": {}},\n",
    "    \"cutoff_function\": {\"ShiftedCosine\": {\"width\": 0.5}},\n",
    "}\n",
    "multi_spectra_hypers = {}\n",
    "#multi_spectra_hypers['Composition'] = {}\n",
    "multi_spectra_hypers['SoapRadialSpectrum'] = deepcopy(HYPERS)\n",
    "multi_spectra_hypers['SoapRadialSpectrum'].pop('max_angular')\n",
    "multi_spectra_hypers['SoapPowerSpectrum'] = deepcopy(HYPERS)"
   ]
  },
  {
   "cell_type": "code",
   "execution_count": 4,
   "id": "0233bbb9",
   "metadata": {},
   "outputs": [],
   "source": [
    "y = ase_to_tensormap(frames, energy=\"energy\", forces=\"forces\")"
   ]
  },
  {
   "cell_type": "code",
   "execution_count": 5,
   "id": "cdf7caa4",
   "metadata": {},
   "outputs": [
    {
     "data": {
      "text/plain": [
       "682.0541684216688"
      ]
     },
     "execution_count": 5,
     "metadata": {},
     "output_type": "execute_result"
    }
   ],
   "source": [
    "# Because all frames have the same species, we cannot scale, so we just subtract the mean\n",
    "#transformer_composition = StandardScaler(parameter_keys=[\"values\", \"positions\"], with_mean=True, with_std=False)\n",
    "# THIS IS BUGGY, something wrong in the standardizer when setting these flags to False\n",
    "\n",
    "transformer = StandardScaler(parameter_keys=[\"values\", \"positions\"])\n",
    "estimator = Ridge(parameter_keys=[\"values\", \"positions\"])\n",
    "script = MultiSpectraScript(multi_spectra_hypers,\n",
    "                            transformer_X=transformer,\n",
    "                            transformer_y=transformer,\n",
    "                            estimator=estimator)\n",
    "Xi = script.compute(systems=frames, gradients=[\"positions\"])\n",
    "script.fit(Xi, y, **{\"estimator_kwargs\": {\"alpha\": 1e-15}})\n",
    "script.score(Xi, y)"
   ]
  },
  {
   "cell_type": "code",
   "execution_count": 24,
   "id": "f2ae37dd",
   "metadata": {},
   "outputs": [],
   "source": [
    "import pickle\n",
    "with open(\"multi_spectra_script.pickle\", \"wb\") as file:\n",
    "    pickle.dump(script, file)"
   ]
  },
  {
   "cell_type": "code",
   "execution_count": null,
   "id": "20c63f3a",
   "metadata": {},
   "outputs": [],
   "source": [
    "# RESTART NOTEBOOK"
   ]
  },
  {
   "cell_type": "code",
   "execution_count": 2,
   "id": "abca6400",
   "metadata": {},
   "outputs": [],
   "source": [
    "import pickle\n",
    "with open(\"multi_spectra_script.pickle\", \"rb\") as file:\n",
    "    script = pickle.load(file)"
   ]
  },
  {
   "cell_type": "code",
   "execution_count": 6,
   "id": "e4cb173b",
   "metadata": {},
   "outputs": [
    {
     "name": "stdout",
     "output_type": "stream",
     "text": [
      "-6670.358911902072\n",
      "\n",
      "[[ 0.01145739  0.06669734 -0.20306462]\n",
      " [-0.01153683 -0.06170437  0.19953785]\n",
      " [-0.27611707 -0.19247149 -0.27163192]\n",
      " [ 0.26997665  0.18030043  0.26243261]\n",
      " [-0.11654375  0.05184333  0.13549624]\n",
      " [ 0.1265544  -0.02746341 -0.1132465 ]\n",
      " [ 0.59205389 -0.16341688  0.24250682]\n",
      " [-0.58913387  0.14755051 -0.25953784]\n",
      " [-0.23898237 -0.00752666 -0.44587233]\n",
      " [ 0.2458553   0.02053826  0.44307574]\n",
      " [-0.49899296 -0.10911834 -0.34888084]\n",
      " [ 0.51039465  0.1215075   0.33275828]\n",
      " [ 0.00619352  0.03809673  0.02755182]\n",
      " [-0.02173256 -0.03589776 -0.01832106]\n",
      " [ 0.09438602  0.17613856  0.15814283]\n",
      " [-0.09300466 -0.20983831 -0.1561389 ]\n",
      " [ 0.08100779 -0.20760401  0.14899835]\n",
      " [-0.09145756  0.18401078 -0.14334729]\n",
      " [-0.04074477  0.24378372  0.10087433]\n",
      " [ 0.03017454 -0.23130091 -0.11072421]]\n"
     ]
    }
   ],
   "source": [
    "# in ipi\n",
    "\n",
    "import ase.io\n",
    "import numpy as np\n",
    "\n",
    "structure = ase.io.read(\"dataset.xyz\", \":1\")[0]\n",
    "\n",
    "Xi = script.compute(systems=structure, gradients=[\"positions\"])\n",
    "y_pred = script.forward(Xi) # implicitely done in score function\n",
    "energy = y_pred.block().values[0][0]\n",
    "forces = np.array(y_pred.block().gradient(\"positions\").data.reshape(-1, 3))\n",
    "\n",
    "print(energy)\n",
    "print()\n",
    "print(forces)"
   ]
  },
  {
   "cell_type": "code",
   "execution_count": null,
   "id": "df409f32",
   "metadata": {},
   "outputs": [],
   "source": []
  }
 ],
 "metadata": {
  "kernelspec": {
   "display_name": "Python 3 (ipykernel)",
   "language": "python",
   "name": "python3"
  },
  "language_info": {
   "codemirror_mode": {
    "name": "ipython",
    "version": 3
   },
   "file_extension": ".py",
   "mimetype": "text/x-python",
   "name": "python",
   "nbconvert_exporter": "python",
   "pygments_lexer": "ipython3",
   "version": "3.8.0"
  }
 },
 "nbformat": 4,
 "nbformat_minor": 5
}
