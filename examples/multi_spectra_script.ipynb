{
 "cells": [
  {
   "cell_type": "code",
   "execution_count": 1,
   "id": "c86f17cd",
   "metadata": {},
   "outputs": [],
   "source": [
    "import rascaline\n",
    "rascaline._c_lib._get_library()\n",
    "\n",
    "from copy import deepcopy\n",
    "\n",
    "import numpy as np\n",
    "\n",
    "from equisolve.numpy.scripts import MultiSpectraScript\n",
    "from equisolve.numpy.models.linear_model import Ridge\n",
    "from equisolve.numpy.preprocessing import StandardScaler\n",
    "from equisolve.utils.convert import ase_to_tensormap\n",
    "\n",
    "import ase.io\n"
   ]
  },
  {
   "cell_type": "code",
   "execution_count": 2,
   "id": "a199029f",
   "metadata": {},
   "outputs": [],
   "source": [
    "frames = ase.io.read(\"water_converted.extxyz\", \":20\")"
   ]
  },
  {
   "cell_type": "code",
   "execution_count": 3,
   "id": "baca7fb8",
   "metadata": {},
   "outputs": [],
   "source": [
    "HYPERS = {\n",
    "    \"cutoff\": 3.0,\n",
    "    \"max_radial\": 6,\n",
    "    \"max_angular\": 4,\n",
    "    \"atomic_gaussian_width\": 0.3,\n",
    "    \"center_atom_weight\": 1.0,\n",
    "    \"radial_basis\": {\"Gto\": {}},\n",
    "    \"cutoff_function\": {\"ShiftedCosine\": {\"width\": 0.5}},\n",
    "}\n",
    "multi_spectra_hypers = {}\n",
    "#multi_spectra_hypers['Composition'] = {}\n",
    "multi_spectra_hypers['SoapRadialSpectrum'] = deepcopy(HYPERS)\n",
    "multi_spectra_hypers['SoapRadialSpectrum'].pop('max_angular')\n",
    "multi_spectra_hypers['SoapPowerSpectrum'] = deepcopy(HYPERS)"
   ]
  },
  {
   "cell_type": "code",
   "execution_count": 4,
   "id": "0233bbb9",
   "metadata": {},
   "outputs": [],
   "source": [
    "y = ase_to_tensormap(frames, energy=\"TotEnergy\", forces=\"force\")"
   ]
  },
  {
   "cell_type": "code",
   "execution_count": 5,
   "id": "cdf7caa4",
   "metadata": {},
   "outputs": [
    {
     "data": {
      "text/plain": [
       "671.9636307759672"
      ]
     },
     "execution_count": 5,
     "metadata": {},
     "output_type": "execute_result"
    }
   ],
   "source": [
    "# Because all frames have the same species, we cannot scale, so we just subtract the mean\n",
    "#transformer_composition = StandardScaler(parameter_keys=[\"values\", \"positions\"], with_mean=True, with_std=False)\n",
    "# THIS IS BUGGY, something wrong in the standardizer when setting these flags to False\n",
    "\n",
    "transformer = StandardScaler(parameter_keys=[\"values\", \"positions\"])\n",
    "estimator = Ridge(parameter_keys=[\"values\", \"positions\"])\n",
    "script = MultiSpectraScript(multi_spectra_hypers,\n",
    "                            #transformer_X=transformer,\n",
    "                            #transformer_y=transformer,\n",
    "                            estimator=estimator)\n",
    "Xi = script.compute(systems=frames, gradients=[\"positions\"])\n",
    "script.fit(Xi, y, **{\"estimator_kwargs\": {\"alpha\": 1e-15}})\n",
    "script.score(Xi, y)"
   ]
  },
  {
   "cell_type": "code",
   "execution_count": 6,
   "id": "e719d5d9",
   "metadata": {},
   "outputs": [],
   "source": [
    "import pickle\n",
    "with open(\"multi_spectra_script-water.pickle\", \"wb\") as file:\n",
    "    pickle.dump(script, file)"
   ]
  },
  {
   "cell_type": "code",
   "execution_count": 1,
   "id": "32232ee0",
   "metadata": {},
   "outputs": [],
   "source": [
    "# RESTART NOTEBOOK"
   ]
  },
  {
   "cell_type": "code",
   "execution_count": 2,
   "id": "bd4b318b",
   "metadata": {},
   "outputs": [],
   "source": [
    "import pickle\n",
    "with open(\"multi_spectra_script-water.pickle\", \"rb\") as file:\n",
    "    script = pickle.load(file)"
   ]
  },
  {
   "cell_type": "code",
   "execution_count": 5,
   "id": "41619646",
   "metadata": {},
   "outputs": [
    {
     "name": "stdout",
     "output_type": "stream",
     "text": [
      "-29201.186821558364\n",
      "\n",
      "[[-295.60671847   -4.62718863  -55.59864334]\n",
      " [ 298.54620907    4.04942317   37.15507667]\n",
      " [-221.68776379 -150.28232975 -242.81915489]\n",
      " [  -7.67013877    1.6028996    48.61326349]\n",
      " [ 176.03569875 -146.94124088  179.13481445]\n",
      " [ 286.69810363  136.65180697 -172.50009028]\n",
      " [-220.83316507  156.29491821  107.1942928 ]]\n"
     ]
    }
   ],
   "source": [
    "# in ipi\n",
    "\n",
    "import ase.io\n",
    "import numpy as np\n",
    "\n",
    "structure = ase.io.read(\"h5o2+.extxyz\", \"0\")\n",
    "\n",
    "Xi = script.compute(systems=structure, gradients=[\"positions\"])\n",
    "y_pred = script.forward(Xi) # implicitely done in score function\n",
    "energy = y_pred.block().values[0][0]\n",
    "forces = np.array(y_pred.block().gradient(\"positions\").data.reshape(-1, 3))\n",
    "\n",
    "print(energy)\n",
    "print()\n",
    "print(forces)"
   ]
  },
  {
   "cell_type": "code",
   "execution_count": 13,
   "id": "f99b6549",
   "metadata": {},
   "outputs": [
    {
     "data": {
      "text/plain": [
       "('property',)"
      ]
     },
     "execution_count": 13,
     "metadata": {},
     "output_type": "execute_result"
    }
   ],
   "source": [
    "y_pred.block().properties.names"
   ]
  },
  {
   "cell_type": "code",
   "execution_count": 10,
   "id": "e5973c26",
   "metadata": {},
   "outputs": [
    {
     "data": {
      "text/plain": [
       "<equisolve.numpy.scripts.md_calculator.GenericMDCalculator at 0x7f8d31a0d6a0>"
      ]
     },
     "execution_count": 10,
     "metadata": {},
     "output_type": "execute_result"
    }
   ],
   "source": [
    "from equisolve.numpy.scripts import GenericMDCalculator\n",
    "\n",
    "from ipi.utils.mathtools import det_ut3x3\n",
    "from ipi.utils.units import unit_to_internal, unit_to_user\n",
    "\n",
    "\n",
    "md_calc = GenericMDCalculator(\"multi_spectra_script-water.pickle\",\n",
    "                    is_periodic=True,\n",
    "                    structure_template=\"h5o2+.extxyz\",\n",
    "                    atomic_numbers=[1,8])"
   ]
  },
  {
   "cell_type": "code",
   "execution_count": null,
   "id": "67a9bff2",
   "metadata": {},
   "outputs": [],
   "source": [
    "from ipi.utils.mathtools import det_ut3x3\n",
    "from ipi.utils.units import unit_to_internal, unit_to_user\n",
    "\n",
    "pos_rascal = unit_to_user(\"length\", \"angstrom\", pos)\n",
    "# librascal expects ASE-format, cell-vectors-as-rows\n",
    "cell_rascal = unit_to_user(\"length\", \"angstrom\", cell.T)\n",
    "\n",
    "pot, force, stress = md_calc.calculate(pos_rascal, cell_rascal)\n"
   ]
  }
 ],
 "metadata": {
  "kernelspec": {
   "display_name": "Python 3 (ipykernel)",
   "language": "python",
   "name": "python3"
  },
  "language_info": {
   "codemirror_mode": {
    "name": "ipython",
    "version": 3
   },
   "file_extension": ".py",
   "mimetype": "text/x-python",
   "name": "python",
   "nbconvert_exporter": "python",
   "pygments_lexer": "ipython3",
   "version": "3.8.0"
  }
 },
 "nbformat": 4,
 "nbformat_minor": 5
}
