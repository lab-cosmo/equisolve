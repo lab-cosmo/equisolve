{
 "cells": [
  {
   "cell_type": "code",
   "execution_count": 1,
   "id": "c86f17cd",
   "metadata": {},
   "outputs": [],
   "source": [
    "import rascaline\n",
    "rascaline._c_lib._get_library()\n",
    "\n",
    "from copy import deepcopy\n",
    "\n",
    "import numpy as np\n",
    "\n",
    "from equisolve.numpy.scripts import MultiSpectraScript\n",
    "from equisolve.numpy.models.linear_model import Ridge\n",
    "from equisolve.numpy.preprocessing import StandardScaler\n",
    "from equisolve.utils.convert import ase_to_tensormap\n",
    "\n",
    "import ase.io\n"
   ]
  },
  {
   "cell_type": "code",
   "execution_count": 2,
   "id": "a199029f",
   "metadata": {},
   "outputs": [],
   "source": [
    "frames = ase.io.read(\"water_converted.extxyz\", \":4\") # CHANGE TO YOUR DATASET\n",
    "y = ase_to_tensormap(frames, energy=\"TotEnergy\", forces=\"force\")"
   ]
  },
  {
   "cell_type": "code",
   "execution_count": 3,
   "id": "baca7fb8",
   "metadata": {},
   "outputs": [],
   "source": [
    "HYPERS = {\n",
    "    \"cutoff\": 5.0,\n",
    "    \"max_radial\": 8,\n",
    "    \"max_angular\": 6,\n",
    "    \"atomic_gaussian_width\": 0.25,\n",
    "    \"center_atom_weight\": 1.0,\n",
    "    \"radial_basis\":{\"Gto\": {\"spline_accuracy\": 1e-5}},\n",
    "    \"cutoff_function\": {\"ShiftedCosine\": {\"width\": 0.2}},\n",
    "    \"radial_scaling\": {\"Willatt2018\": {\"exponent\": 6, \"rate\": 3, \"scale\": 2.0}},\n",
    "}\n",
    "\n",
    "multi_spectra_hypers = {}\n",
    "multi_spectra_hypers['Composition'] = {'per_structure': False}\n",
    "multi_spectra_hypers['SoapRadialSpectrum'] = deepcopy(HYPERS)\n",
    "multi_spectra_hypers['SoapRadialSpectrum'].pop('max_angular')\n",
    "multi_spectra_hypers['SoapPowerSpectrum'] = deepcopy(HYPERS)\n",
    "\n",
    "transformer = StandardScaler(parameter_keys=[\"values\"])\n",
    "estimator = Ridge(parameter_keys=[\"values\", \"positions\"])\n",
    "script = MultiSpectraScript(multi_spectra_hypers,\n",
    "                            transformer_y=transformer,\n",
    "                            estimator=estimator)\n"
   ]
  },
  {
   "cell_type": "code",
   "execution_count": 4,
   "id": "5a48817e",
   "metadata": {},
   "outputs": [],
   "source": [
    "Xi = script.compute(systems=frames, gradients=[\"positions\"])\n",
    "script.fit(Xi, y, **{\"estimator_kwargs\": {\"alpha\": 1e-15}})"
   ]
  },
  {
   "cell_type": "code",
   "execution_count": 5,
   "id": "04807e0b",
   "metadata": {},
   "outputs": [
    {
     "data": {
      "text/plain": [
       "1.2647021474138442"
      ]
     },
     "execution_count": 5,
     "metadata": {},
     "output_type": "execute_result"
    }
   ],
   "source": [
    "script.score(Xi, y)"
   ]
  },
  {
   "cell_type": "code",
   "execution_count": 6,
   "id": "573325a0",
   "metadata": {},
   "outputs": [],
   "source": [
    "Xi = script.compute(systems=frames, gradients=[\"positions\"])\n",
    "y_pred = script.forward(Xi)\n"
   ]
  },
  {
   "cell_type": "code",
   "execution_count": 7,
   "id": "6c0c30eb",
   "metadata": {},
   "outputs": [],
   "source": [
    "import pickle\n",
    "with open(\"multi_spectra_script-thorben.pickle\", \"wb\") as file:\n",
    "    pickle.dump(script, file)"
   ]
  },
  {
   "cell_type": "markdown",
   "id": "64b6232c",
   "metadata": {},
   "source": [
    "### Testing i-pi support"
   ]
  },
  {
   "cell_type": "code",
   "execution_count": 8,
   "id": "99a94bf0",
   "metadata": {},
   "outputs": [],
   "source": [
    "import pickle\n",
    "with open(\"multi_spectra_script-thorben.pickle\", \"rb\") as file:\n",
    "    script = pickle.load(file)"
   ]
  },
  {
   "cell_type": "code",
   "execution_count": 9,
   "id": "5369b107",
   "metadata": {},
   "outputs": [
    {
     "name": "stdout",
     "output_type": "stream",
     "text": [
      "-30021.592706684605\n",
      "\n",
      "[[-3.49000829 -0.66491428  0.03825963]\n",
      " [ 3.31762319  0.70152297  1.06043758]\n",
      " [-0.53010739 -0.29730224 -0.87017826]\n",
      " [ 0.06258619 -0.01292945 -0.39877504]\n",
      " [ 0.5565406  -0.76222816  0.55000543]\n",
      " [ 0.77346134  0.24635373 -0.68418884]\n",
      " [-0.69009565  0.78949744  0.30443949]]\n"
     ]
    }
   ],
   "source": [
    "# in ipi\n",
    "\n",
    "import ase.io\n",
    "import numpy as np\n",
    "\n",
    "structure = ase.io.read(\"h5o2+.extxyz\", \"0\")\n",
    "\n",
    "Xi = script.compute(systems=structure, gradients=[\"positions\"])\n",
    "y_pred = script.forward(Xi) # implicitely done in score function\n",
    "energy = y_pred.block().values[0][0]\n",
    "forces = np.array(y_pred.block().gradient(\"positions\").data.reshape(-1, 3))\n",
    "\n",
    "print(energy)\n",
    "print()\n",
    "print(forces)"
   ]
  },
  {
   "cell_type": "code",
   "execution_count": null,
   "id": "3b022484",
   "metadata": {},
   "outputs": [],
   "source": [
    "# install ipi from this fork and branch https://github.com/agoscinski/i-pi/tree/equihack\n",
    "# pip install pip install git+https://github.com/agoscinski/i-pi/@equihack"
   ]
  },
  {
   "cell_type": "code",
   "execution_count": 11,
   "id": "995fe798",
   "metadata": {},
   "outputs": [],
   "source": [
    "from equisolve.numpy.scripts import GenericMDCalculator\n",
    "\n",
    "from ipi.utils.mathtools import det_ut3x3\n",
    "from ipi.utils.units import unit_to_internal, unit_to_user\n",
    "\n",
    "\n",
    "md_calc = GenericMDCalculator(\"multi_spectra_script-thorben.pickle\",\n",
    "                    is_periodic=True,\n",
    "                    structure_template=\"h5o2+.extxyz\",\n",
    "                    atomic_numbers=[1,8])"
   ]
  },
  {
   "cell_type": "code",
   "execution_count": null,
   "id": "f0b1ba38",
   "metadata": {},
   "outputs": [],
   "source": [
    "# If it runs through you can go to i-pi side and follow the instruction here\n",
    "# https://github.com/agoscinski/i-pi/tree/equihack/examples/equiscript\n",
    "# using the multi_spectra_script-thorben.pickle"
   ]
  }
 ],
 "metadata": {
  "kernelspec": {
   "display_name": "Python 3 (ipykernel)",
   "language": "python",
   "name": "python3"
  },
  "language_info": {
   "codemirror_mode": {
    "name": "ipython",
    "version": 3
   },
   "file_extension": ".py",
   "mimetype": "text/x-python",
   "name": "python",
   "nbconvert_exporter": "python",
   "pygments_lexer": "ipython3",
   "version": "3.10.10"
  }
 },
 "nbformat": 4,
 "nbformat_minor": 5
}
